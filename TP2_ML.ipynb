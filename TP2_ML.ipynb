{
 "cells": [
  {
   "cell_type": "code",
   "execution_count": 1,
   "metadata": {},
   "outputs": [],
   "source": [
    "import pandas as pd\n",
    "from sklearn.preprocessing import StandardScaler"
   ]
  },
  {
   "cell_type": "code",
   "execution_count": 2,
   "metadata": {},
   "outputs": [
    {
     "name": "stdout",
     "output_type": "stream",
     "text": [
      "Index(['Name', 'e_magic', 'e_cblp', 'e_cp', 'e_crlc', 'e_cparhdr',\n",
      "       'e_minalloc', 'e_maxalloc', 'e_ss', 'e_sp', 'e_csum', 'e_ip', 'e_cs',\n",
      "       'e_lfarlc', 'e_ovno', 'e_oemid', 'e_oeminfo', 'e_lfanew', 'Machine',\n",
      "       'NumberOfSections', 'TimeDateStamp', 'PointerToSymbolTable',\n",
      "       'NumberOfSymbols', 'SizeOfOptionalHeader', 'Characteristics', 'Magic',\n",
      "       'MajorLinkerVersion', 'MinorLinkerVersion', 'SizeOfCode',\n",
      "       'SizeOfInitializedData', 'SizeOfUninitializedData',\n",
      "       'AddressOfEntryPoint', 'BaseOfCode', 'ImageBase', 'SectionAlignment',\n",
      "       'FileAlignment', 'MajorOperatingSystemVersion',\n",
      "       'MinorOperatingSystemVersion', 'MajorImageVersion', 'MinorImageVersion',\n",
      "       'MajorSubsystemVersion', 'MinorSubsystemVersion', 'SizeOfHeaders',\n",
      "       'CheckSum', 'SizeOfImage', 'Subsystem', 'DllCharacteristics',\n",
      "       'SizeOfStackReserve', 'SizeOfStackCommit', 'SizeOfHeapReserve',\n",
      "       'SizeOfHeapCommit', 'LoaderFlags', 'NumberOfRvaAndSizes', 'Malware',\n",
      "       'SuspiciousImportFunctions', 'SuspiciousNameSection', 'SectionsLength',\n",
      "       'SectionMinEntropy', 'SectionMaxEntropy', 'SectionMinRawsize',\n",
      "       'SectionMaxRawsize', 'SectionMinVirtualsize', 'SectionMaxVirtualsize',\n",
      "       'SectionMaxPhysical', 'SectionMinPhysical', 'SectionMaxVirtual',\n",
      "       'SectionMinVirtual', 'SectionMaxPointerData', 'SectionMinPointerData',\n",
      "       'SectionMaxChar', 'SectionMainChar', 'DirectoryEntryImport',\n",
      "       'DirectoryEntryImportSize', 'DirectoryEntryExport',\n",
      "       'ImageDirectoryEntryExport', 'ImageDirectoryEntryImport',\n",
      "       'ImageDirectoryEntryResource', 'ImageDirectoryEntryException',\n",
      "       'ImageDirectoryEntrySecurity'],\n",
      "      dtype='object')\n"
     ]
    }
   ],
   "source": [
    "# Lecture de notre fichier de données\n",
    "dataset = pd.read_csv(\"./Fichiers de données/file_pe_headers.csv\")\n",
    "print(dataset.columns)"
   ]
  },
  {
   "cell_type": "code",
   "execution_count": 5,
   "metadata": {},
   "outputs": [
    {
     "name": "stdout",
     "output_type": "stream",
     "text": [
      "<class 'pandas.core.frame.DataFrame'>\n",
      "RangeIndex: 19611 entries, 0 to 19610\n",
      "Data columns (total 79 columns):\n",
      " #   Column                        Non-Null Count  Dtype  \n",
      "---  ------                        --------------  -----  \n",
      " 0   Name                          19611 non-null  object \n",
      " 1   e_magic                       19611 non-null  int64  \n",
      " 2   e_cblp                        19611 non-null  int64  \n",
      " 3   e_cp                          19611 non-null  int64  \n",
      " 4   e_crlc                        19611 non-null  int64  \n",
      " 5   e_cparhdr                     19611 non-null  int64  \n",
      " 6   e_minalloc                    19611 non-null  int64  \n",
      " 7   e_maxalloc                    19611 non-null  int64  \n",
      " 8   e_ss                          19611 non-null  int64  \n",
      " 9   e_sp                          19611 non-null  int64  \n",
      " 10  e_csum                        19611 non-null  int64  \n",
      " 11  e_ip                          19611 non-null  int64  \n",
      " 12  e_cs                          19611 non-null  int64  \n",
      " 13  e_lfarlc                      19611 non-null  int64  \n",
      " 14  e_ovno                        19611 non-null  int64  \n",
      " 15  e_oemid                       19611 non-null  int64  \n",
      " 16  e_oeminfo                     19611 non-null  int64  \n",
      " 17  e_lfanew                      19611 non-null  int64  \n",
      " 18  Machine                       19611 non-null  int64  \n",
      " 19  NumberOfSections              19611 non-null  int64  \n",
      " 20  TimeDateStamp                 19611 non-null  int64  \n",
      " 21  PointerToSymbolTable          19611 non-null  int64  \n",
      " 22  NumberOfSymbols               19611 non-null  int64  \n",
      " 23  SizeOfOptionalHeader          19611 non-null  int64  \n",
      " 24  Characteristics               19611 non-null  int64  \n",
      " 25  Magic                         19611 non-null  int64  \n",
      " 26  MajorLinkerVersion            19611 non-null  int64  \n",
      " 27  MinorLinkerVersion            19611 non-null  int64  \n",
      " 28  SizeOfCode                    19611 non-null  int64  \n",
      " 29  SizeOfInitializedData         19611 non-null  int64  \n",
      " 30  SizeOfUninitializedData       19611 non-null  int64  \n",
      " 31  AddressOfEntryPoint           19611 non-null  int64  \n",
      " 32  BaseOfCode                    19611 non-null  int64  \n",
      " 33  ImageBase                     19611 non-null  int64  \n",
      " 34  SectionAlignment              19611 non-null  int64  \n",
      " 35  FileAlignment                 19611 non-null  int64  \n",
      " 36  MajorOperatingSystemVersion   19611 non-null  int64  \n",
      " 37  MinorOperatingSystemVersion   19611 non-null  int64  \n",
      " 38  MajorImageVersion             19611 non-null  int64  \n",
      " 39  MinorImageVersion             19611 non-null  int64  \n",
      " 40  MajorSubsystemVersion         19611 non-null  int64  \n",
      " 41  MinorSubsystemVersion         19611 non-null  int64  \n",
      " 42  SizeOfHeaders                 19611 non-null  int64  \n",
      " 43  CheckSum                      19611 non-null  int64  \n",
      " 44  SizeOfImage                   19611 non-null  int64  \n",
      " 45  Subsystem                     19611 non-null  int64  \n",
      " 46  DllCharacteristics            19611 non-null  int64  \n",
      " 47  SizeOfStackReserve            19611 non-null  int64  \n",
      " 48  SizeOfStackCommit             19611 non-null  int64  \n",
      " 49  SizeOfHeapReserve             19611 non-null  int64  \n",
      " 50  SizeOfHeapCommit              19611 non-null  int64  \n",
      " 51  LoaderFlags                   19611 non-null  int64  \n",
      " 52  NumberOfRvaAndSizes           19611 non-null  int64  \n",
      " 53  Malware                       19611 non-null  int64  \n",
      " 54  SuspiciousImportFunctions     19611 non-null  int64  \n",
      " 55  SuspiciousNameSection         19611 non-null  int64  \n",
      " 56  SectionsLength                19611 non-null  int64  \n",
      " 57  SectionMinEntropy             19611 non-null  float64\n",
      " 58  SectionMaxEntropy             19611 non-null  int64  \n",
      " 59  SectionMinRawsize             19611 non-null  int64  \n",
      " 60  SectionMaxRawsize             19611 non-null  int64  \n",
      " 61  SectionMinVirtualsize         19611 non-null  int64  \n",
      " 62  SectionMaxVirtualsize         19611 non-null  int64  \n",
      " 63  SectionMaxPhysical            19611 non-null  int64  \n",
      " 64  SectionMinPhysical            19611 non-null  int64  \n",
      " 65  SectionMaxVirtual             19611 non-null  int64  \n",
      " 66  SectionMinVirtual             19611 non-null  int64  \n",
      " 67  SectionMaxPointerData         19611 non-null  int64  \n",
      " 68  SectionMinPointerData         19611 non-null  int64  \n",
      " 69  SectionMaxChar                19611 non-null  int64  \n",
      " 70  SectionMainChar               19611 non-null  int64  \n",
      " 71  DirectoryEntryImport          19611 non-null  int64  \n",
      " 72  DirectoryEntryImportSize      19611 non-null  int64  \n",
      " 73  DirectoryEntryExport          19611 non-null  int64  \n",
      " 74  ImageDirectoryEntryExport     19611 non-null  int64  \n",
      " 75  ImageDirectoryEntryImport     19611 non-null  int64  \n",
      " 76  ImageDirectoryEntryResource   19611 non-null  int64  \n",
      " 77  ImageDirectoryEntryException  19611 non-null  int64  \n",
      " 78  ImageDirectoryEntrySecurity   19611 non-null  int64  \n",
      "dtypes: float64(1), int64(77), object(1)\n",
      "memory usage: 11.8+ MB\n"
     ]
    }
   ],
   "source": [
    "dataset.info()"
   ]
  },
  {
   "cell_type": "code",
   "execution_count": 6,
   "metadata": {},
   "outputs": [],
   "source": [
    "X = dataset.drop(['Name', 'Malware'], axis=1).to_numpy()\n"
   ]
  },
  {
   "cell_type": "code",
   "execution_count": 4,
   "metadata": {},
   "outputs": [],
   "source": [
    "# Normalisation des données\n",
    "X_standardized = StandardScaler().fit_transform(X)\n",
    "X_test = StandardScaler().fit(X).transform(X)"
   ]
  }
 ],
 "metadata": {
  "kernelspec": {
   "display_name": "Python 3",
   "language": "python",
   "name": "python3"
  },
  "language_info": {
   "codemirror_mode": {
    "name": "ipython",
    "version": 3
   },
   "file_extension": ".py",
   "mimetype": "text/x-python",
   "name": "python",
   "nbconvert_exporter": "python",
   "pygments_lexer": "ipython3",
   "version": "3.11.7"
  }
 },
 "nbformat": 4,
 "nbformat_minor": 2
}
