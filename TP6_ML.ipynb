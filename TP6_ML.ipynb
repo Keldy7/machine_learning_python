{
 "cells": [
  {
   "cell_type": "markdown",
   "metadata": {},
   "source": [
    "# 1. Importation des librairies"
   ]
  },
  {
   "cell_type": "code",
   "execution_count": 2,
   "metadata": {},
   "outputs": [],
   "source": [
    "import pandas as pd\n",
    "import numpy as np\n",
    "import seaborn as sns\n",
    "import matplotlib.pyplot as plt\n",
    "%matplotlib inline\n",
    "from sklearn.ensemble import RandomForestClassifier\n",
    "from sklearn.neighbors import KNeighborsClassifier\n",
    "from sklearn.tree import DecisionTreeClassifier\n",
    "from sklearn.linear_model import LogisticRegression\n",
    "from sklearn.model_selection import train_test_split\n",
    "from sklearn.metrics import precision_score, recall_score, f1_score, accuracy_score, confusion_matrix"
   ]
  },
  {
   "cell_type": "markdown",
   "metadata": {},
   "source": [
    "# 2. Chargement du dataset"
   ]
  },
  {
   "cell_type": "code",
   "execution_count": 3,
   "metadata": {},
   "outputs": [],
   "source": [
    "dataset = pd.read_csv('./Fichiers de données/MalwareArtifacts.csv.xls')"
   ]
  },
  {
   "cell_type": "code",
   "execution_count": 4,
   "metadata": {},
   "outputs": [
    {
     "data": {
      "text/html": [
       "<div>\n",
       "<style scoped>\n",
       "    .dataframe tbody tr th:only-of-type {\n",
       "        vertical-align: middle;\n",
       "    }\n",
       "\n",
       "    .dataframe tbody tr th {\n",
       "        vertical-align: top;\n",
       "    }\n",
       "\n",
       "    .dataframe thead th {\n",
       "        text-align: right;\n",
       "    }\n",
       "</style>\n",
       "<table border=\"1\" class=\"dataframe\">\n",
       "  <thead>\n",
       "    <tr style=\"text-align: right;\">\n",
       "      <th></th>\n",
       "      <th>AddressOfEntryPoint</th>\n",
       "      <th>MajorLinkerVersion</th>\n",
       "      <th>MajorImageVersion</th>\n",
       "      <th>MajorOperatingSystemVersion</th>\n",
       "      <th>DllCharacteristics</th>\n",
       "      <th>SizeOfStackReserve</th>\n",
       "      <th>NumberOfSections</th>\n",
       "      <th>ResourceSize</th>\n",
       "      <th>legitimate</th>\n",
       "    </tr>\n",
       "  </thead>\n",
       "  <tbody>\n",
       "    <tr>\n",
       "      <th>0</th>\n",
       "      <td>10407</td>\n",
       "      <td>9</td>\n",
       "      <td>6</td>\n",
       "      <td>6</td>\n",
       "      <td>33088</td>\n",
       "      <td>262144</td>\n",
       "      <td>4</td>\n",
       "      <td>952</td>\n",
       "      <td>1</td>\n",
       "    </tr>\n",
       "    <tr>\n",
       "      <th>1</th>\n",
       "      <td>5354</td>\n",
       "      <td>9</td>\n",
       "      <td>6</td>\n",
       "      <td>6</td>\n",
       "      <td>33088</td>\n",
       "      <td>262144</td>\n",
       "      <td>4</td>\n",
       "      <td>952</td>\n",
       "      <td>1</td>\n",
       "    </tr>\n",
       "    <tr>\n",
       "      <th>2</th>\n",
       "      <td>58807</td>\n",
       "      <td>9</td>\n",
       "      <td>6</td>\n",
       "      <td>6</td>\n",
       "      <td>33088</td>\n",
       "      <td>262144</td>\n",
       "      <td>4</td>\n",
       "      <td>136490</td>\n",
       "      <td>1</td>\n",
       "    </tr>\n",
       "    <tr>\n",
       "      <th>3</th>\n",
       "      <td>25166</td>\n",
       "      <td>9</td>\n",
       "      <td>6</td>\n",
       "      <td>6</td>\n",
       "      <td>33088</td>\n",
       "      <td>262144</td>\n",
       "      <td>4</td>\n",
       "      <td>1940</td>\n",
       "      <td>1</td>\n",
       "    </tr>\n",
       "    <tr>\n",
       "      <th>4</th>\n",
       "      <td>70387</td>\n",
       "      <td>9</td>\n",
       "      <td>6</td>\n",
       "      <td>6</td>\n",
       "      <td>33088</td>\n",
       "      <td>262144</td>\n",
       "      <td>4</td>\n",
       "      <td>83098</td>\n",
       "      <td>1</td>\n",
       "    </tr>\n",
       "    <tr>\n",
       "      <th>...</th>\n",
       "      <td>...</td>\n",
       "      <td>...</td>\n",
       "      <td>...</td>\n",
       "      <td>...</td>\n",
       "      <td>...</td>\n",
       "      <td>...</td>\n",
       "      <td>...</td>\n",
       "      <td>...</td>\n",
       "      <td>...</td>\n",
       "    </tr>\n",
       "    <tr>\n",
       "      <th>137439</th>\n",
       "      <td>123291</td>\n",
       "      <td>11</td>\n",
       "      <td>0</td>\n",
       "      <td>5</td>\n",
       "      <td>33088</td>\n",
       "      <td>1048576</td>\n",
       "      <td>5</td>\n",
       "      <td>81654</td>\n",
       "      <td>0</td>\n",
       "    </tr>\n",
       "    <tr>\n",
       "      <th>137440</th>\n",
       "      <td>40000</td>\n",
       "      <td>2</td>\n",
       "      <td>6</td>\n",
       "      <td>1</td>\n",
       "      <td>32768</td>\n",
       "      <td>1048576</td>\n",
       "      <td>8</td>\n",
       "      <td>67624</td>\n",
       "      <td>0</td>\n",
       "    </tr>\n",
       "    <tr>\n",
       "      <th>137441</th>\n",
       "      <td>59610</td>\n",
       "      <td>10</td>\n",
       "      <td>0</td>\n",
       "      <td>5</td>\n",
       "      <td>33088</td>\n",
       "      <td>1048576</td>\n",
       "      <td>5</td>\n",
       "      <td>22648</td>\n",
       "      <td>0</td>\n",
       "    </tr>\n",
       "    <tr>\n",
       "      <th>137442</th>\n",
       "      <td>51216</td>\n",
       "      <td>2</td>\n",
       "      <td>0</td>\n",
       "      <td>1</td>\n",
       "      <td>0</td>\n",
       "      <td>1048576</td>\n",
       "      <td>8</td>\n",
       "      <td>2216</td>\n",
       "      <td>0</td>\n",
       "    </tr>\n",
       "    <tr>\n",
       "      <th>137443</th>\n",
       "      <td>22731</td>\n",
       "      <td>11</td>\n",
       "      <td>0</td>\n",
       "      <td>5</td>\n",
       "      <td>33088</td>\n",
       "      <td>1048576</td>\n",
       "      <td>5</td>\n",
       "      <td>318464</td>\n",
       "      <td>0</td>\n",
       "    </tr>\n",
       "  </tbody>\n",
       "</table>\n",
       "<p>137444 rows × 9 columns</p>\n",
       "</div>"
      ],
      "text/plain": [
       "        AddressOfEntryPoint  MajorLinkerVersion  MajorImageVersion  \\\n",
       "0                     10407                   9                  6   \n",
       "1                      5354                   9                  6   \n",
       "2                     58807                   9                  6   \n",
       "3                     25166                   9                  6   \n",
       "4                     70387                   9                  6   \n",
       "...                     ...                 ...                ...   \n",
       "137439               123291                  11                  0   \n",
       "137440                40000                   2                  6   \n",
       "137441                59610                  10                  0   \n",
       "137442                51216                   2                  0   \n",
       "137443                22731                  11                  0   \n",
       "\n",
       "        MajorOperatingSystemVersion  DllCharacteristics  SizeOfStackReserve  \\\n",
       "0                                 6               33088              262144   \n",
       "1                                 6               33088              262144   \n",
       "2                                 6               33088              262144   \n",
       "3                                 6               33088              262144   \n",
       "4                                 6               33088              262144   \n",
       "...                             ...                 ...                 ...   \n",
       "137439                            5               33088             1048576   \n",
       "137440                            1               32768             1048576   \n",
       "137441                            5               33088             1048576   \n",
       "137442                            1                   0             1048576   \n",
       "137443                            5               33088             1048576   \n",
       "\n",
       "        NumberOfSections  ResourceSize  legitimate  \n",
       "0                      4           952           1  \n",
       "1                      4           952           1  \n",
       "2                      4        136490           1  \n",
       "3                      4          1940           1  \n",
       "4                      4         83098           1  \n",
       "...                  ...           ...         ...  \n",
       "137439                 5         81654           0  \n",
       "137440                 8         67624           0  \n",
       "137441                 5         22648           0  \n",
       "137442                 8          2216           0  \n",
       "137443                 5        318464           0  \n",
       "\n",
       "[137444 rows x 9 columns]"
      ]
     },
     "execution_count": 4,
     "metadata": {},
     "output_type": "execute_result"
    }
   ],
   "source": [
    "dataset"
   ]
  },
  {
   "cell_type": "code",
   "execution_count": 5,
   "metadata": {},
   "outputs": [],
   "source": [
    "for _ in ['AddressOfEntryPoint', 'MajorLinkerVersion', 'MajorImageVersion', 'MajorOperatingSystemVersion', 'DllCharacteristics', 'SizeOfStackReserve', 'NumberOfSections', 'ResourceSize', 'legitimate']:\n",
    "    if not(_) in dataset.columns:\n",
    "        print(f\"{_} n'existe pas\")"
   ]
  },
  {
   "cell_type": "code",
   "execution_count": 6,
   "metadata": {},
   "outputs": [
    {
     "data": {
      "text/plain": [
       "(137444, 9)"
      ]
     },
     "execution_count": 6,
     "metadata": {},
     "output_type": "execute_result"
    }
   ],
   "source": [
    "dataset.shape"
   ]
  },
  {
   "cell_type": "markdown",
   "metadata": {},
   "source": [
    "# 3. Prétraitement des données"
   ]
  },
  {
   "cell_type": "code",
   "execution_count": 7,
   "metadata": {},
   "outputs": [
    {
     "data": {
      "text/plain": [
       "AddressOfEntryPoint            int64\n",
       "MajorLinkerVersion             int64\n",
       "MajorImageVersion              int64\n",
       "MajorOperatingSystemVersion    int64\n",
       "DllCharacteristics             int64\n",
       "SizeOfStackReserve             int64\n",
       "NumberOfSections               int64\n",
       "ResourceSize                   int64\n",
       "legitimate                     int64\n",
       "dtype: object"
      ]
     },
     "execution_count": 7,
     "metadata": {},
     "output_type": "execute_result"
    }
   ],
   "source": [
    "# Nature de chacune des features\n",
    "dataset.dtypes"
   ]
  },
  {
   "cell_type": "code",
   "execution_count": 8,
   "metadata": {},
   "outputs": [
    {
     "data": {
      "text/plain": [
       "AddressOfEntryPoint            0\n",
       "MajorLinkerVersion             0\n",
       "MajorImageVersion              0\n",
       "MajorOperatingSystemVersion    0\n",
       "DllCharacteristics             0\n",
       "SizeOfStackReserve             0\n",
       "NumberOfSections               0\n",
       "ResourceSize                   0\n",
       "legitimate                     0\n",
       "dtype: int64"
      ]
     },
     "execution_count": 8,
     "metadata": {},
     "output_type": "execute_result"
    }
   ],
   "source": [
    "# Nombre de valeurs manquantes\n",
    "dataset.isnull().sum()"
   ]
  },
  {
   "cell_type": "code",
   "execution_count": 9,
   "metadata": {},
   "outputs": [],
   "source": [
    "# Suppression des valeurs manquantes\n",
    "dataset = dataset.dropna()"
   ]
  },
  {
   "cell_type": "code",
   "execution_count": 10,
   "metadata": {},
   "outputs": [],
   "source": [
    "# Suppression des données dupliquées\n",
    "dataset.drop_duplicates(inplace=True)"
   ]
  },
  {
   "cell_type": "code",
   "execution_count": 11,
   "metadata": {},
   "outputs": [
    {
     "name": "stdout",
     "output_type": "stream",
     "text": [
      "<class 'pandas.core.frame.DataFrame'>\n",
      "Index: 32670 entries, 0 to 137429\n",
      "Data columns (total 9 columns):\n",
      " #   Column                       Non-Null Count  Dtype\n",
      "---  ------                       --------------  -----\n",
      " 0   AddressOfEntryPoint          32670 non-null  int64\n",
      " 1   MajorLinkerVersion           32670 non-null  int64\n",
      " 2   MajorImageVersion            32670 non-null  int64\n",
      " 3   MajorOperatingSystemVersion  32670 non-null  int64\n",
      " 4   DllCharacteristics           32670 non-null  int64\n",
      " 5   SizeOfStackReserve           32670 non-null  int64\n",
      " 6   NumberOfSections             32670 non-null  int64\n",
      " 7   ResourceSize                 32670 non-null  int64\n",
      " 8   legitimate                   32670 non-null  int64\n",
      "dtypes: int64(9)\n",
      "memory usage: 2.5 MB\n"
     ]
    }
   ],
   "source": [
    "dataset.info()"
   ]
  },
  {
   "cell_type": "code",
   "execution_count": 12,
   "metadata": {},
   "outputs": [
    {
     "data": {
      "text/html": [
       "<div>\n",
       "<style scoped>\n",
       "    .dataframe tbody tr th:only-of-type {\n",
       "        vertical-align: middle;\n",
       "    }\n",
       "\n",
       "    .dataframe tbody tr th {\n",
       "        vertical-align: top;\n",
       "    }\n",
       "\n",
       "    .dataframe thead th {\n",
       "        text-align: right;\n",
       "    }\n",
       "</style>\n",
       "<table border=\"1\" class=\"dataframe\">\n",
       "  <thead>\n",
       "    <tr style=\"text-align: right;\">\n",
       "      <th></th>\n",
       "      <th>AddressOfEntryPoint</th>\n",
       "      <th>MajorLinkerVersion</th>\n",
       "      <th>MajorImageVersion</th>\n",
       "      <th>MajorOperatingSystemVersion</th>\n",
       "      <th>DllCharacteristics</th>\n",
       "      <th>SizeOfStackReserve</th>\n",
       "      <th>NumberOfSections</th>\n",
       "      <th>ResourceSize</th>\n",
       "      <th>legitimate</th>\n",
       "    </tr>\n",
       "  </thead>\n",
       "  <tbody>\n",
       "    <tr>\n",
       "      <th>count</th>\n",
       "      <td>3.267000e+04</td>\n",
       "      <td>32670.000000</td>\n",
       "      <td>32670.000000</td>\n",
       "      <td>32670.000000</td>\n",
       "      <td>32670.000000</td>\n",
       "      <td>3.267000e+04</td>\n",
       "      <td>32670.000000</td>\n",
       "      <td>3.267000e+04</td>\n",
       "      <td>32670.000000</td>\n",
       "    </tr>\n",
       "    <tr>\n",
       "      <th>mean</th>\n",
       "      <td>3.435005e+05</td>\n",
       "      <td>8.385002</td>\n",
       "      <td>170.947964</td>\n",
       "      <td>6.188644</td>\n",
       "      <td>9595.198623</td>\n",
       "      <td>7.251652e+05</td>\n",
       "      <td>4.502051</td>\n",
       "      <td>8.027311e+05</td>\n",
       "      <td>0.730517</td>\n",
       "    </tr>\n",
       "    <tr>\n",
       "      <th>std</th>\n",
       "      <td>6.936945e+06</td>\n",
       "      <td>5.709571</td>\n",
       "      <td>1877.308210</td>\n",
       "      <td>203.948252</td>\n",
       "      <td>14836.611488</td>\n",
       "      <td>7.815799e+05</td>\n",
       "      <td>2.309684</td>\n",
       "      <td>4.367166e+07</td>\n",
       "      <td>0.443698</td>\n",
       "    </tr>\n",
       "    <tr>\n",
       "      <th>min</th>\n",
       "      <td>0.000000e+00</td>\n",
       "      <td>0.000000</td>\n",
       "      <td>0.000000</td>\n",
       "      <td>0.000000</td>\n",
       "      <td>0.000000</td>\n",
       "      <td>0.000000e+00</td>\n",
       "      <td>1.000000</td>\n",
       "      <td>0.000000e+00</td>\n",
       "      <td>0.000000</td>\n",
       "    </tr>\n",
       "    <tr>\n",
       "      <th>25%</th>\n",
       "      <td>9.918000e+03</td>\n",
       "      <td>7.000000</td>\n",
       "      <td>0.000000</td>\n",
       "      <td>4.000000</td>\n",
       "      <td>64.000000</td>\n",
       "      <td>2.621440e+05</td>\n",
       "      <td>3.000000</td>\n",
       "      <td>9.280000e+02</td>\n",
       "      <td>0.000000</td>\n",
       "    </tr>\n",
       "    <tr>\n",
       "      <th>50%</th>\n",
       "      <td>4.149800e+04</td>\n",
       "      <td>9.000000</td>\n",
       "      <td>5.000000</td>\n",
       "      <td>5.000000</td>\n",
       "      <td>320.000000</td>\n",
       "      <td>1.048576e+06</td>\n",
       "      <td>4.000000</td>\n",
       "      <td>1.274500e+03</td>\n",
       "      <td>1.000000</td>\n",
       "    </tr>\n",
       "    <tr>\n",
       "      <th>75%</th>\n",
       "      <td>1.559968e+05</td>\n",
       "      <td>9.000000</td>\n",
       "      <td>6.000000</td>\n",
       "      <td>6.000000</td>\n",
       "      <td>32768.000000</td>\n",
       "      <td>1.048576e+06</td>\n",
       "      <td>5.000000</td>\n",
       "      <td>1.693600e+04</td>\n",
       "      <td>1.000000</td>\n",
       "    </tr>\n",
       "    <tr>\n",
       "      <th>max</th>\n",
       "      <td>1.074484e+09</td>\n",
       "      <td>255.000000</td>\n",
       "      <td>28619.000000</td>\n",
       "      <td>36868.000000</td>\n",
       "      <td>49504.000000</td>\n",
       "      <td>3.355443e+07</td>\n",
       "      <td>40.000000</td>\n",
       "      <td>4.294903e+09</td>\n",
       "      <td>1.000000</td>\n",
       "    </tr>\n",
       "  </tbody>\n",
       "</table>\n",
       "</div>"
      ],
      "text/plain": [
       "       AddressOfEntryPoint  MajorLinkerVersion  MajorImageVersion  \\\n",
       "count         3.267000e+04        32670.000000       32670.000000   \n",
       "mean          3.435005e+05            8.385002         170.947964   \n",
       "std           6.936945e+06            5.709571        1877.308210   \n",
       "min           0.000000e+00            0.000000           0.000000   \n",
       "25%           9.918000e+03            7.000000           0.000000   \n",
       "50%           4.149800e+04            9.000000           5.000000   \n",
       "75%           1.559968e+05            9.000000           6.000000   \n",
       "max           1.074484e+09          255.000000       28619.000000   \n",
       "\n",
       "       MajorOperatingSystemVersion  DllCharacteristics  SizeOfStackReserve  \\\n",
       "count                 32670.000000        32670.000000        3.267000e+04   \n",
       "mean                      6.188644         9595.198623        7.251652e+05   \n",
       "std                     203.948252        14836.611488        7.815799e+05   \n",
       "min                       0.000000            0.000000        0.000000e+00   \n",
       "25%                       4.000000           64.000000        2.621440e+05   \n",
       "50%                       5.000000          320.000000        1.048576e+06   \n",
       "75%                       6.000000        32768.000000        1.048576e+06   \n",
       "max                   36868.000000        49504.000000        3.355443e+07   \n",
       "\n",
       "       NumberOfSections  ResourceSize    legitimate  \n",
       "count      32670.000000  3.267000e+04  32670.000000  \n",
       "mean           4.502051  8.027311e+05      0.730517  \n",
       "std            2.309684  4.367166e+07      0.443698  \n",
       "min            1.000000  0.000000e+00      0.000000  \n",
       "25%            3.000000  9.280000e+02      0.000000  \n",
       "50%            4.000000  1.274500e+03      1.000000  \n",
       "75%            5.000000  1.693600e+04      1.000000  \n",
       "max           40.000000  4.294903e+09      1.000000  "
      ]
     },
     "execution_count": 12,
     "metadata": {},
     "output_type": "execute_result"
    }
   ],
   "source": [
    "dataset.describe()"
   ]
  },
  {
   "cell_type": "code",
   "execution_count": 13,
   "metadata": {},
   "outputs": [],
   "source": [
    "# Nombre d'occurrences des fichiers légitimes et malveillants\n",
    "occ = dataset['legitimate'].value_counts()"
   ]
  },
  {
   "cell_type": "code",
   "execution_count": 14,
   "metadata": {},
   "outputs": [
    {
     "name": "stdout",
     "output_type": "stream",
     "text": [
      "Ratio de fichiers légitimes: 0.2694827058463422\n",
      "Ratio fichiers malveillants: 0.7305172941536577\n"
     ]
    }
   ],
   "source": [
    "ratio_fichiers = occ/len(dataset.index)\n",
    "print(f'Ratio de fichiers légitimes: {ratio_fichiers[0]}\\nRatio fichiers malveillants: {ratio_fichiers[1]}')"
   ]
  },
  {
   "cell_type": "markdown",
   "metadata": {},
   "source": [
    "# 4. Corrélation entre les différentes variables"
   ]
  },
  {
   "cell_type": "code",
   "execution_count": 15,
   "metadata": {},
   "outputs": [
    {
     "data": {
      "text/html": [
       "<div>\n",
       "<style scoped>\n",
       "    .dataframe tbody tr th:only-of-type {\n",
       "        vertical-align: middle;\n",
       "    }\n",
       "\n",
       "    .dataframe tbody tr th {\n",
       "        vertical-align: top;\n",
       "    }\n",
       "\n",
       "    .dataframe thead th {\n",
       "        text-align: right;\n",
       "    }\n",
       "</style>\n",
       "<table border=\"1\" class=\"dataframe\">\n",
       "  <thead>\n",
       "    <tr style=\"text-align: right;\">\n",
       "      <th></th>\n",
       "      <th>AddressOfEntryPoint</th>\n",
       "      <th>MajorLinkerVersion</th>\n",
       "      <th>MajorImageVersion</th>\n",
       "      <th>MajorOperatingSystemVersion</th>\n",
       "      <th>DllCharacteristics</th>\n",
       "      <th>SizeOfStackReserve</th>\n",
       "      <th>NumberOfSections</th>\n",
       "      <th>ResourceSize</th>\n",
       "      <th>legitimate</th>\n",
       "    </tr>\n",
       "  </thead>\n",
       "  <tbody>\n",
       "    <tr>\n",
       "      <th>AddressOfEntryPoint</th>\n",
       "      <td>1.000000</td>\n",
       "      <td>-0.002336</td>\n",
       "      <td>0.003402</td>\n",
       "      <td>-0.000367</td>\n",
       "      <td>0.007295</td>\n",
       "      <td>0.012757</td>\n",
       "      <td>0.017451</td>\n",
       "      <td>0.001283</td>\n",
       "      <td>-0.029986</td>\n",
       "    </tr>\n",
       "    <tr>\n",
       "      <th>MajorLinkerVersion</th>\n",
       "      <td>-0.002336</td>\n",
       "      <td>1.000000</td>\n",
       "      <td>0.017067</td>\n",
       "      <td>-0.001522</td>\n",
       "      <td>0.062685</td>\n",
       "      <td>-0.042769</td>\n",
       "      <td>0.036357</td>\n",
       "      <td>-0.006351</td>\n",
       "      <td>0.072118</td>\n",
       "    </tr>\n",
       "    <tr>\n",
       "      <th>MajorImageVersion</th>\n",
       "      <td>0.003402</td>\n",
       "      <td>0.017067</td>\n",
       "      <td>1.000000</td>\n",
       "      <td>-0.000152</td>\n",
       "      <td>-0.024172</td>\n",
       "      <td>-0.048201</td>\n",
       "      <td>0.020255</td>\n",
       "      <td>-0.001110</td>\n",
       "      <td>0.048439</td>\n",
       "    </tr>\n",
       "    <tr>\n",
       "      <th>MajorOperatingSystemVersion</th>\n",
       "      <td>-0.000367</td>\n",
       "      <td>-0.001522</td>\n",
       "      <td>-0.000152</td>\n",
       "      <td>1.000000</td>\n",
       "      <td>-0.004156</td>\n",
       "      <td>0.000390</td>\n",
       "      <td>-0.003143</td>\n",
       "      <td>-0.000165</td>\n",
       "      <td>-0.006813</td>\n",
       "    </tr>\n",
       "    <tr>\n",
       "      <th>DllCharacteristics</th>\n",
       "      <td>0.007295</td>\n",
       "      <td>0.062685</td>\n",
       "      <td>-0.024172</td>\n",
       "      <td>-0.004156</td>\n",
       "      <td>1.000000</td>\n",
       "      <td>0.123462</td>\n",
       "      <td>-0.009275</td>\n",
       "      <td>-0.008460</td>\n",
       "      <td>-0.185187</td>\n",
       "    </tr>\n",
       "    <tr>\n",
       "      <th>SizeOfStackReserve</th>\n",
       "      <td>0.012757</td>\n",
       "      <td>-0.042769</td>\n",
       "      <td>-0.048201</td>\n",
       "      <td>0.000390</td>\n",
       "      <td>0.123462</td>\n",
       "      <td>1.000000</td>\n",
       "      <td>-0.031787</td>\n",
       "      <td>0.006865</td>\n",
       "      <td>-0.364362</td>\n",
       "    </tr>\n",
       "    <tr>\n",
       "      <th>NumberOfSections</th>\n",
       "      <td>0.017451</td>\n",
       "      <td>0.036357</td>\n",
       "      <td>0.020255</td>\n",
       "      <td>-0.003143</td>\n",
       "      <td>-0.009275</td>\n",
       "      <td>-0.031787</td>\n",
       "      <td>1.000000</td>\n",
       "      <td>-0.007401</td>\n",
       "      <td>-0.090383</td>\n",
       "    </tr>\n",
       "    <tr>\n",
       "      <th>ResourceSize</th>\n",
       "      <td>0.001283</td>\n",
       "      <td>-0.006351</td>\n",
       "      <td>-0.001110</td>\n",
       "      <td>-0.000165</td>\n",
       "      <td>-0.008460</td>\n",
       "      <td>0.006865</td>\n",
       "      <td>-0.007401</td>\n",
       "      <td>1.000000</td>\n",
       "      <td>-0.026910</td>\n",
       "    </tr>\n",
       "    <tr>\n",
       "      <th>legitimate</th>\n",
       "      <td>-0.029986</td>\n",
       "      <td>0.072118</td>\n",
       "      <td>0.048439</td>\n",
       "      <td>-0.006813</td>\n",
       "      <td>-0.185187</td>\n",
       "      <td>-0.364362</td>\n",
       "      <td>-0.090383</td>\n",
       "      <td>-0.026910</td>\n",
       "      <td>1.000000</td>\n",
       "    </tr>\n",
       "  </tbody>\n",
       "</table>\n",
       "</div>"
      ],
      "text/plain": [
       "                             AddressOfEntryPoint  MajorLinkerVersion  \\\n",
       "AddressOfEntryPoint                     1.000000           -0.002336   \n",
       "MajorLinkerVersion                     -0.002336            1.000000   \n",
       "MajorImageVersion                       0.003402            0.017067   \n",
       "MajorOperatingSystemVersion            -0.000367           -0.001522   \n",
       "DllCharacteristics                      0.007295            0.062685   \n",
       "SizeOfStackReserve                      0.012757           -0.042769   \n",
       "NumberOfSections                        0.017451            0.036357   \n",
       "ResourceSize                            0.001283           -0.006351   \n",
       "legitimate                             -0.029986            0.072118   \n",
       "\n",
       "                             MajorImageVersion  MajorOperatingSystemVersion  \\\n",
       "AddressOfEntryPoint                   0.003402                    -0.000367   \n",
       "MajorLinkerVersion                    0.017067                    -0.001522   \n",
       "MajorImageVersion                     1.000000                    -0.000152   \n",
       "MajorOperatingSystemVersion          -0.000152                     1.000000   \n",
       "DllCharacteristics                   -0.024172                    -0.004156   \n",
       "SizeOfStackReserve                   -0.048201                     0.000390   \n",
       "NumberOfSections                      0.020255                    -0.003143   \n",
       "ResourceSize                         -0.001110                    -0.000165   \n",
       "legitimate                            0.048439                    -0.006813   \n",
       "\n",
       "                             DllCharacteristics  SizeOfStackReserve  \\\n",
       "AddressOfEntryPoint                    0.007295            0.012757   \n",
       "MajorLinkerVersion                     0.062685           -0.042769   \n",
       "MajorImageVersion                     -0.024172           -0.048201   \n",
       "MajorOperatingSystemVersion           -0.004156            0.000390   \n",
       "DllCharacteristics                     1.000000            0.123462   \n",
       "SizeOfStackReserve                     0.123462            1.000000   \n",
       "NumberOfSections                      -0.009275           -0.031787   \n",
       "ResourceSize                          -0.008460            0.006865   \n",
       "legitimate                            -0.185187           -0.364362   \n",
       "\n",
       "                             NumberOfSections  ResourceSize  legitimate  \n",
       "AddressOfEntryPoint                  0.017451      0.001283   -0.029986  \n",
       "MajorLinkerVersion                   0.036357     -0.006351    0.072118  \n",
       "MajorImageVersion                    0.020255     -0.001110    0.048439  \n",
       "MajorOperatingSystemVersion         -0.003143     -0.000165   -0.006813  \n",
       "DllCharacteristics                  -0.009275     -0.008460   -0.185187  \n",
       "SizeOfStackReserve                  -0.031787      0.006865   -0.364362  \n",
       "NumberOfSections                     1.000000     -0.007401   -0.090383  \n",
       "ResourceSize                        -0.007401      1.000000   -0.026910  \n",
       "legitimate                          -0.090383     -0.026910    1.000000  "
      ]
     },
     "execution_count": 15,
     "metadata": {},
     "output_type": "execute_result"
    }
   ],
   "source": [
    "dataset.corr()"
   ]
  },
  {
   "cell_type": "code",
   "execution_count": 16,
   "metadata": {},
   "outputs": [
    {
     "data": {
      "image/png": "[encoded data removed]",
      "text/plain": [
       "<Figure size 640x480 with 2 Axes>"
      ]
     },
     "metadata": {},
     "output_type": "display_data"
    }
   ],
   "source": [
    "sns.heatmap(dataset.corr(), annot=True, cmap='crest', linewidths=.5, fmt=\".3f\")\n",
    "plt.title(\"Matrice de correlation\")\n",
    "plt.show()"
   ]
  },
  {
   "cell_type": "markdown",
   "metadata": {},
   "source": [
    "# 5. Séparation du dataset en données d'entraînement et de test"
   ]
  },
  {
   "cell_type": "code",
   "execution_count": 17,
   "metadata": {},
   "outputs": [],
   "source": [
    "# Extraction du feature et target\n",
    "X = dataset.drop('legitimate', axis=1)\n",
    "y = dataset['legitimate']"
   ]
  },
  {
   "cell_type": "code",
   "execution_count": 18,
   "metadata": {},
   "outputs": [],
   "source": [
    "# Division des données en ensembles d'entraînement et de test\n",
    "X_train, X_test, y_train, y_test = train_test_split(X, y, test_size=0.3, random_state=0)"
   ]
  },
  {
   "cell_type": "code",
   "execution_count": 19,
   "metadata": {},
   "outputs": [],
   "source": [
    "def modeles_resultats(X_train, y_train, X_test, y_test, model):\n",
    "    \n",
    "    # 6. Entraînement des modèles\n",
    "    model.fit(X_train, y_train)\n",
    "\n",
    "    # 7. Prédiction avec les modèles\n",
    "    y_pred = model.predict(X_test)\n",
    "    \n",
    "    try:\n",
    "        \n",
    "        # 8. Évaluation des performances des modèles\n",
    "        dico_indices_performances = {\"Exactitude: \" : accuracy_score(y_test, y_pred), \"Précision: \" : precision_score(y_test, y_pred), \"Recupération: \": recall_score(y_test, y_pred), \"Score F1: \": f1_score(y_test, y_pred), \"Matrice de confusion\": confusion_matrix(y_test, y_pred)}\n",
    "        for _ in dico_indices_performances:\n",
    "            print(f'{_}: \\n {dico_indices_performances[_]}')\n",
    "\n",
    "    except AttributeError:\n",
    "        pass"
   ]
  },
  {
   "cell_type": "code",
   "execution_count": 20,
   "metadata": {},
   "outputs": [
    {
     "name": "stdout",
     "output_type": "stream",
     "text": [
      "Exactitude: : \n",
      " 0.8778696051423324\n",
      "Précision: : \n",
      " 0.9046581312993734\n",
      "Recupération: : \n",
      " 0.9303824064995098\n",
      "Score F1: : \n",
      " 0.9173399627097576\n",
      "Matrice de confusion: \n",
      " [[1962  700]\n",
      " [ 497 6642]]\n"
     ]
    }
   ],
   "source": [
    "# Modèle avec l'algorithme KNN\n",
    "model_Knn = KNeighborsClassifier()\n",
    "modeles_resultats(X_train, y_train, X_test, y_test, model_Knn)"
   ]
  },
  {
   "cell_type": "code",
   "execution_count": 21,
   "metadata": {},
   "outputs": [
    {
     "name": "stdout",
     "output_type": "stream",
     "text": [
      "Exactitude: : \n",
      " 0.9585756555453525\n",
      "Précision: : \n",
      " 0.9738212526389867\n",
      "Recupération: : \n",
      " 0.9691833590138675\n",
      "Score F1: : \n",
      " 0.9714967705700646\n",
      "Matrice de confusion: \n",
      " [[2476  186]\n",
      " [ 220 6919]]\n"
     ]
    }
   ],
   "source": [
    "# Modèle avec l'algorithme Random Forest\n",
    "model_RandomForest = RandomForestClassifier(n_estimators=20, n_jobs=1, random_state=5)\n",
    "modeles_resultats(X_train, y_train, X_test, y_test, model_RandomForest)"
   ]
  },
  {
   "cell_type": "code",
   "execution_count": 22,
   "metadata": {},
   "outputs": [
    {
     "name": "stdout",
     "output_type": "stream",
     "text": [
      "Exactitude: : \n",
      " 0.9428629731660034\n",
      "Précision: : \n",
      " 0.9620733249051833\n",
      "Recupération: : \n",
      " 0.9593780641546436\n",
      "Score F1: : \n",
      " 0.9607238041801094\n",
      "Matrice de confusion: \n",
      " [[2392  270]\n",
      " [ 290 6849]]\n"
     ]
    }
   ],
   "source": [
    "# Modèle avec l'algorithme Decision Tree\n",
    "model_DecisionTree = DecisionTreeClassifier()\n",
    "modeles_resultats(X_train, y_train, X_test, y_test, model_DecisionTree)"
   ]
  },
  {
   "cell_type": "code",
   "execution_count": 23,
   "metadata": {},
   "outputs": [
    {
     "name": "stdout",
     "output_type": "stream",
     "text": [
      "Exactitude: : \n",
      " 0.7293133353739414\n",
      "Précision: : \n",
      " 0.7295333606221859\n",
      "Recupération: : \n",
      " 0.9985992435915394\n",
      "Score F1: : \n",
      " 0.843119862811188\n",
      "Matrice de confusion: \n",
      " [[  19 2643]\n",
      " [  10 7129]]\n"
     ]
    },
    {
     "name": "stderr",
     "output_type": "stream",
     "text": [
      "/opt/homebrew/lib/python3.11/site-packages/sklearn/linear_model/_logistic.py:469: ConvergenceWarning: lbfgs failed to converge (status=1):\n",
      "STOP: TOTAL NO. of ITERATIONS REACHED LIMIT.\n",
      "\n",
      "Increase the number of iterations (max_iter) or scale the data as shown in:\n",
      "    https://scikit-learn.org/stable/modules/preprocessing.html\n",
      "Please also refer to the documentation for alternative solver options:\n",
      "    https://scikit-learn.org/stable/modules/linear_model.html#logistic-regression\n",
      "  n_iter_i = _check_optimize_result(\n"
     ]
    }
   ],
   "source": [
    "model_Log = LogisticRegression(C=1.0, random_state= 20, max_iter= 100)\n",
    "modeles_resultats(X_train, y_train, X_test, y_test, model_Log)"
   ]
  },
  {
   "cell_type": "markdown",
   "metadata": {},
   "source": [
    "# 9. Distribution de la variable cible \"legitimate\""
   ]
  },
  {
   "cell_type": "code",
   "execution_count": 24,
   "metadata": {},
   "outputs": [
    {
     "data": {
      "text/plain": [
       "legitimate\n",
       "1    23866\n",
       "0     8804\n",
       "Name: count, dtype: int64"
      ]
     },
     "execution_count": 24,
     "metadata": {},
     "output_type": "execute_result"
    }
   ],
   "source": [
    "occ"
   ]
  },
  {
   "cell_type": "code",
   "execution_count": 25,
   "metadata": {},
   "outputs": [
    {
     "name": "stdout",
     "output_type": "stream",
     "text": [
      "Exactitude: : \n",
      " 0.9585756555453525\n",
      "Précision: : \n",
      " 0.9738212526389867\n",
      "Recupération: : \n",
      " 0.9691833590138675\n",
      "Score F1: : \n",
      " 0.9714967705700646\n",
      "Matrice de confusion: \n",
      " [[2476  186]\n",
      " [ 220 6919]]\n",
      "Exactitude: : \n",
      " 0.9585756555453525\n",
      "Précision: : \n",
      " 0.9738212526389867\n",
      "Recupération: : \n",
      " 0.9691833590138675\n",
      "Score F1: : \n",
      " 0.9714967705700646\n",
      "Matrice de confusion: \n",
      " [[2476  186]\n",
      " [ 220 6919]]\n",
      "Exactitude: : \n",
      " 0.9435771860014285\n",
      "Précision: : \n",
      " 0.9635416666666666\n",
      "Recupération: : \n",
      " 0.9588177615912593\n",
      "Score F1: : \n",
      " 0.9611739099908727\n",
      "Matrice de confusion: \n",
      " [[2403  259]\n",
      " [ 294 6845]]\n",
      "Exactitude: : \n",
      " 0.9431690643811856\n",
      "Précision: : \n",
      " 0.9632601351351351\n",
      "Recupération: : \n",
      " 0.9585376103095672\n",
      "Score F1: : \n",
      " 0.9608930702801376\n",
      "Matrice de confusion: \n",
      " [[2401  261]\n",
      " [ 296 6843]]\n",
      "Exactitude: : \n",
      " 0.8778696051423324\n",
      "Précision: : \n",
      " 0.9046581312993734\n",
      "Recupération: : \n",
      " 0.9303824064995098\n",
      "Score F1: : \n",
      " 0.9173399627097576\n",
      "Matrice de confusion: \n",
      " [[1962  700]\n",
      " [ 497 6642]]\n",
      "Exactitude: : \n",
      " 0.8778696051423324\n",
      "Précision: : \n",
      " 0.9046581312993734\n",
      "Recupération: : \n",
      " 0.9303824064995098\n",
      "Score F1: : \n",
      " 0.9173399627097576\n",
      "Matrice de confusion: \n",
      " [[1962  700]\n",
      " [ 497 6642]]\n"
     ]
    },
    {
     "data": {
      "image/png": "[encoded data removed]",
      "text/plain": [
       "<Figure size 640x480 with 3 Axes>"
      ]
     },
     "metadata": {},
     "output_type": "display_data"
    }
   ],
   "source": [
    "plt.subplot(1, 1, 1)\n",
    "plt.scatter(modeles_resultats(X_train, y_train, X_test, y_test, model_RandomForest), modeles_resultats(X_train, y_train, X_test, y_test, model_RandomForest), label=\"#0\", alpha=0.5, linewidth=0.15)\n",
    "plt.title('Algorithme Random Forest')\n",
    "plt.subplot(1, 2, 2)\n",
    "plt.scatter(modeles_resultats(X_train, y_train, X_test, y_test, model_DecisionTree), modeles_resultats(X_train, y_train, X_test, y_test, model_DecisionTree), label=\"#1\", alpha=0.5, linewidth=0.15)\n",
    "plt.title('Algorithme Decision Tree')\n",
    "plt.subplot(1, 2, 1)\n",
    "plt.scatter(modeles_resultats(X_train, y_train, X_test, y_test, model_Knn), modeles_resultats(X_train, y_train, X_test, y_test, model_Knn), label=\"#2\", alpha=0.5, linewidth=0.15)\n",
    "plt.title('Algorithme KNN')\n",
    "\n",
    "# Affichage des graphiques\n",
    "plt.legend()\n",
    "plt.show()"
   ]
  },
  {
   "cell_type": "code",
   "execution_count": 26,
   "metadata": {},
   "outputs": [
    {
     "data": {
      "text/html": [
       "<div>\n",
       "<style scoped>\n",
       "    .dataframe tbody tr th:only-of-type {\n",
       "        vertical-align: middle;\n",
       "    }\n",
       "\n",
       "    .dataframe tbody tr th {\n",
       "        vertical-align: top;\n",
       "    }\n",
       "\n",
       "    .dataframe thead th {\n",
       "        text-align: right;\n",
       "    }\n",
       "</style>\n",
       "<table border=\"1\" class=\"dataframe\">\n",
       "  <thead>\n",
       "    <tr style=\"text-align: right;\">\n",
       "      <th></th>\n",
       "      <th>Training score</th>\n",
       "      <th>Accuracy</th>\n",
       "      <th>Precision</th>\n",
       "      <th>Recall</th>\n",
       "      <th>Training time</th>\n",
       "    </tr>\n",
       "  </thead>\n",
       "  <tbody>\n",
       "    <tr>\n",
       "      <th>Decision Tree Classifier</th>\n",
       "      <td>0.999213</td>\n",
       "      <td>0.943271</td>\n",
       "      <td>0.962354</td>\n",
       "      <td>0.959658</td>\n",
       "      <td>0.099707</td>\n",
       "    </tr>\n",
       "    <tr>\n",
       "      <th>Random Forest Classifier</th>\n",
       "      <td>0.999213</td>\n",
       "      <td>0.959698</td>\n",
       "      <td>0.973330</td>\n",
       "      <td>0.971284</td>\n",
       "      <td>1.757344</td>\n",
       "    </tr>\n",
       "    <tr>\n",
       "      <th>KNeighbors</th>\n",
       "      <td>0.913070</td>\n",
       "      <td>0.877870</td>\n",
       "      <td>0.904658</td>\n",
       "      <td>0.930382</td>\n",
       "      <td>0.011085</td>\n",
       "    </tr>\n",
       "  </tbody>\n",
       "</table>\n",
       "</div>"
      ],
      "text/plain": [
       "                          Training score  Accuracy  Precision    Recall  \\\n",
       "Decision Tree Classifier        0.999213  0.943271   0.962354  0.959658   \n",
       "Random Forest Classifier        0.999213  0.959698   0.973330  0.971284   \n",
       "KNeighbors                      0.913070  0.877870   0.904658  0.930382   \n",
       "\n",
       "                          Training time  \n",
       "Decision Tree Classifier       0.099707  \n",
       "Random Forest Classifier       1.757344  \n",
       "KNeighbors                     0.011085  "
      ]
     },
     "execution_count": 26,
     "metadata": {},
     "output_type": "execute_result"
    }
   ],
   "source": [
    "models = {}\n",
    "models['Decision Tree Classifier'] = DecisionTreeClassifier()\n",
    "models['Random Forest Classifier'] =random_forest= RandomForestClassifier()\n",
    "models['KNeighbors'] = KNeighborsClassifier()\n",
    "import time\n",
    "\n",
    "train_score, accuracy, precision, recall, training_time, y_pred = {}, {}, {}, {}, {}, {}\n",
    "for key in models.keys():\n",
    "    start_time = time.time()\n",
    "    models[key].fit(X_train, y_train)\n",
    "    training_time[key] = time.time() - start_time\n",
    "    y_pred[key] = models[key].predict(X_test)\n",
    "    train_score[key] = models[key].score(X_train, y_train)\n",
    "    accuracy[key] = models[key].score(X_test, y_test)\n",
    "    precision[key] = precision_score(y_test, y_pred[key])\n",
    "    recall[key] = recall_score(y_test, y_pred[key])\n",
    "\n",
    "\n",
    "df_models = pd.DataFrame(index=models.keys(), columns=['Training score', 'Accuracy', 'Precision', 'Recall', 'Training time'])\n",
    "df_models['Training score'] = train_score.values()\n",
    "df_models['Accuracy'] = accuracy.values()\n",
    "df_models['Precision'] = precision.values()\n",
    "df_models['Recall'] = recall.values()\n",
    "df_models['Training time'] = training_time.values()\n",
    "\n",
    "df_models"
   ]
  }
 ],
 "metadata": {
  "kernelspec": {
   "display_name": "Python 3",
   "language": "python",
   "name": "python3"
  },
  "language_info": {
   "codemirror_mode": {
    "name": "ipython",
    "version": 3
   },
   "file_extension": ".py",
   "mimetype": "text/x-python",
   "name": "python",
   "nbconvert_exporter": "python",
   "pygments_lexer": "ipython3",
   "version": "3.11.9"
  }
 },
 "nbformat": 4,
 "nbformat_minor": 2
}
