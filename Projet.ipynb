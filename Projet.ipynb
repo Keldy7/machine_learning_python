{
 "cells": [
  {
   "cell_type": "code",
   "execution_count": 1,
   "metadata": {},
   "outputs": [],
   "source": [
    "# Importation des librairies\n",
    "import matplotlib.pyplot as plt\n",
    "import numpy as np\n",
    "import pandas as pd\n",
    "import seaborn as sns\n",
    "from sklearn.model_selection import train_test_split\n",
    "from sklearn.metrics import precision_score, recall_score, f1_score, accuracy_score, confusion_matrix\n",
    "from sklearn.naive_bayes import GaussianNB\n",
    "from sklearn.neighbors import KNeighborsClassifier\n",
    "from sklearn.tree import DecisionTreeClassifier\n",
    "%matplotlib inline"
   ]
  },
  {
   "cell_type": "code",
   "execution_count": 2,
   "metadata": {},
   "outputs": [],
   "source": [
    "# Chargement du dataset\n",
    "dataset = pd.read_csv('./Fichiers de données/network-logs.csv')"
   ]
  },
  {
   "cell_type": "code",
   "execution_count": 3,
   "metadata": {},
   "outputs": [
    {
     "data": {
      "text/html": [
       "<div>\n",
       "<style scoped>\n",
       "    .dataframe tbody tr th:only-of-type {\n",
       "        vertical-align: middle;\n",
       "    }\n",
       "\n",
       "    .dataframe tbody tr th {\n",
       "        vertical-align: top;\n",
       "    }\n",
       "\n",
       "    .dataframe thead th {\n",
       "        text-align: right;\n",
       "    }\n",
       "</style>\n",
       "<table border=\"1\" class=\"dataframe\">\n",
       "  <thead>\n",
       "    <tr style=\"text-align: right;\">\n",
       "      <th></th>\n",
       "      <th>REMOTE_PORT</th>\n",
       "      <th>LATENCY</th>\n",
       "      <th>THROUGHPUT</th>\n",
       "      <th>ANOMALY</th>\n",
       "    </tr>\n",
       "  </thead>\n",
       "  <tbody>\n",
       "    <tr>\n",
       "      <th>0</th>\n",
       "      <td>21</td>\n",
       "      <td>15.942875</td>\n",
       "      <td>16.202998</td>\n",
       "      <td>0</td>\n",
       "    </tr>\n",
       "    <tr>\n",
       "      <th>1</th>\n",
       "      <td>20</td>\n",
       "      <td>12.666451</td>\n",
       "      <td>15.899084</td>\n",
       "      <td>1</td>\n",
       "    </tr>\n",
       "    <tr>\n",
       "      <th>2</th>\n",
       "      <td>80</td>\n",
       "      <td>13.894550</td>\n",
       "      <td>12.958008</td>\n",
       "      <td>0</td>\n",
       "    </tr>\n",
       "    <tr>\n",
       "      <th>3</th>\n",
       "      <td>21</td>\n",
       "      <td>13.620813</td>\n",
       "      <td>15.459475</td>\n",
       "      <td>0</td>\n",
       "    </tr>\n",
       "    <tr>\n",
       "      <th>4</th>\n",
       "      <td>21</td>\n",
       "      <td>15.705485</td>\n",
       "      <td>15.339565</td>\n",
       "      <td>0</td>\n",
       "    </tr>\n",
       "  </tbody>\n",
       "</table>\n",
       "</div>"
      ],
      "text/plain": [
       "   REMOTE_PORT    LATENCY  THROUGHPUT  ANOMALY\n",
       "0           21  15.942875   16.202998        0\n",
       "1           20  12.666451   15.899084        1\n",
       "2           80  13.894550   12.958008        0\n",
       "3           21  13.620813   15.459475        0\n",
       "4           21  15.705485   15.339565        0"
      ]
     },
     "execution_count": 3,
     "metadata": {},
     "output_type": "execute_result"
    }
   ],
   "source": [
    "# Affichage des 5 premières lignes du dataset\n",
    "dataset.head()"
   ]
  },
  {
   "cell_type": "code",
   "execution_count": 4,
   "metadata": {},
   "outputs": [
    {
     "data": {
      "text/plain": [
       "(405, 4)"
      ]
     },
     "execution_count": 4,
     "metadata": {},
     "output_type": "execute_result"
    }
   ],
   "source": [
    "# Dimensions du dataset\n",
    "dataset.shape"
   ]
  },
  {
   "cell_type": "code",
   "execution_count": 5,
   "metadata": {},
   "outputs": [
    {
     "name": "stdout",
     "output_type": "stream",
     "text": [
      "<class 'pandas.core.frame.DataFrame'>\n",
      "RangeIndex: 405 entries, 0 to 404\n",
      "Data columns (total 4 columns):\n",
      " #   Column       Non-Null Count  Dtype  \n",
      "---  ------       --------------  -----  \n",
      " 0   REMOTE_PORT  405 non-null    int64  \n",
      " 1   LATENCY      405 non-null    float64\n",
      " 2   THROUGHPUT   405 non-null    float64\n",
      " 3   ANOMALY      405 non-null    int64  \n",
      "dtypes: float64(2), int64(2)\n",
      "memory usage: 12.8 KB\n"
     ]
    }
   ],
   "source": [
    "# Affichage des informations sur le dataset\n",
    "dataset.info()"
   ]
  },
  {
   "cell_type": "code",
   "execution_count": 6,
   "metadata": {},
   "outputs": [
    {
     "data": {
      "text/plain": [
       "98"
      ]
     },
     "execution_count": 6,
     "metadata": {},
     "output_type": "execute_result"
    }
   ],
   "source": [
    "# Recherche des valeurs dupliquées\n",
    "dataset.duplicated().sum()"
   ]
  },
  {
   "cell_type": "code",
   "execution_count": 7,
   "metadata": {},
   "outputs": [],
   "source": [
    "# Suppression des valeurs dupliquées\n",
    "dataset.drop_duplicates(inplace=True)"
   ]
  },
  {
   "cell_type": "code",
   "execution_count": 8,
   "metadata": {},
   "outputs": [
    {
     "data": {
      "text/plain": [
       "(307, 4)"
      ]
     },
     "execution_count": 8,
     "metadata": {},
     "output_type": "execute_result"
    }
   ],
   "source": [
    "# Taille du dataset après suppression des valeurs dupliquées\n",
    "dataset.shape"
   ]
  },
  {
   "cell_type": "code",
   "execution_count": 9,
   "metadata": {},
   "outputs": [
    {
     "data": {
      "text/html": [
       "<div>\n",
       "<style scoped>\n",
       "    .dataframe tbody tr th:only-of-type {\n",
       "        vertical-align: middle;\n",
       "    }\n",
       "\n",
       "    .dataframe tbody tr th {\n",
       "        vertical-align: top;\n",
       "    }\n",
       "\n",
       "    .dataframe thead th {\n",
       "        text-align: right;\n",
       "    }\n",
       "</style>\n",
       "<table border=\"1\" class=\"dataframe\">\n",
       "  <thead>\n",
       "    <tr style=\"text-align: right;\">\n",
       "      <th></th>\n",
       "      <th>REMOTE_PORT</th>\n",
       "      <th>LATENCY</th>\n",
       "      <th>THROUGHPUT</th>\n",
       "      <th>ANOMALY</th>\n",
       "    </tr>\n",
       "  </thead>\n",
       "  <tbody>\n",
       "    <tr>\n",
       "      <th>count</th>\n",
       "      <td>307.000000</td>\n",
       "      <td>307.000000</td>\n",
       "      <td>307.000000</td>\n",
       "      <td>307.000000</td>\n",
       "    </tr>\n",
       "    <tr>\n",
       "      <th>mean</th>\n",
       "      <td>65.019544</td>\n",
       "      <td>14.438806</td>\n",
       "      <td>15.361489</td>\n",
       "      <td>0.029316</td>\n",
       "    </tr>\n",
       "    <tr>\n",
       "      <th>std</th>\n",
       "      <td>107.987622</td>\n",
       "      <td>1.506990</td>\n",
       "      <td>1.270218</td>\n",
       "      <td>0.168966</td>\n",
       "    </tr>\n",
       "    <tr>\n",
       "      <th>min</th>\n",
       "      <td>20.000000</td>\n",
       "      <td>4.752613</td>\n",
       "      <td>4.126232</td>\n",
       "      <td>0.000000</td>\n",
       "    </tr>\n",
       "    <tr>\n",
       "      <th>25%</th>\n",
       "      <td>21.000000</td>\n",
       "      <td>13.403351</td>\n",
       "      <td>15.197528</td>\n",
       "      <td>0.000000</td>\n",
       "    </tr>\n",
       "    <tr>\n",
       "      <th>50%</th>\n",
       "      <td>21.000000</td>\n",
       "      <td>15.015778</td>\n",
       "      <td>15.528906</td>\n",
       "      <td>0.000000</td>\n",
       "    </tr>\n",
       "    <tr>\n",
       "      <th>75%</th>\n",
       "      <td>80.000000</td>\n",
       "      <td>15.456936</td>\n",
       "      <td>15.841982</td>\n",
       "      <td>0.000000</td>\n",
       "    </tr>\n",
       "    <tr>\n",
       "      <th>max</th>\n",
       "      <td>443.000000</td>\n",
       "      <td>23.339868</td>\n",
       "      <td>24.350407</td>\n",
       "      <td>1.000000</td>\n",
       "    </tr>\n",
       "  </tbody>\n",
       "</table>\n",
       "</div>"
      ],
      "text/plain": [
       "       REMOTE_PORT     LATENCY  THROUGHPUT     ANOMALY\n",
       "count   307.000000  307.000000  307.000000  307.000000\n",
       "mean     65.019544   14.438806   15.361489    0.029316\n",
       "std     107.987622    1.506990    1.270218    0.168966\n",
       "min      20.000000    4.752613    4.126232    0.000000\n",
       "25%      21.000000   13.403351   15.197528    0.000000\n",
       "50%      21.000000   15.015778   15.528906    0.000000\n",
       "75%      80.000000   15.456936   15.841982    0.000000\n",
       "max     443.000000   23.339868   24.350407    1.000000"
      ]
     },
     "execution_count": 9,
     "metadata": {},
     "output_type": "execute_result"
    }
   ],
   "source": [
    "# Affichage des statistiques descriptives du dataset\n",
    "dataset.describe()"
   ]
  },
  {
   "cell_type": "code",
   "execution_count": 10,
   "metadata": {},
   "outputs": [
    {
     "data": {
      "image/png": "[encoded data removed]",
      "text/plain": [
       "<Figure size 800x800 with 1 Axes>"
      ]
     },
     "metadata": {},
     "output_type": "display_data"
    }
   ],
   "source": [
    "# Taux de la distribution des ports \n",
    "plt.figure(figsize=(8, 8))\n",
    "dataset.REMOTE_PORT.value_counts().plot.pie(autopct=  '%1.2f%%')\n",
    "plt.title('Distribution des ports distants')\n",
    "plt.show()"
   ]
  },
  {
   "cell_type": "code",
   "execution_count": 11,
   "metadata": {},
   "outputs": [
    {
     "data": {
      "text/plain": [
       "ANOMALY\n",
       "0    298\n",
       "1      9\n",
       "Name: count, dtype: int64"
      ]
     },
     "execution_count": 11,
     "metadata": {},
     "output_type": "execute_result"
    }
   ],
   "source": [
    "# Nombre d'occurrences des fichiers légitimes et malveillants\n",
    "occ = dataset['ANOMALY'].value_counts()\n",
    "occ"
   ]
  },
  {
   "cell_type": "code",
   "execution_count": 12,
   "metadata": {},
   "outputs": [
    {
     "name": "stdout",
     "output_type": "stream",
     "text": [
      "Ratio de la présence d'activité normale: 0.9706840390879479\n",
      "Ratio de la présence d'activité anormale: 0.029315960912052116\n"
     ]
    }
   ],
   "source": [
    "ratio_fichiers = occ/len(dataset.index)\n",
    "print(f\"Ratio de la présence d'activité normale: {ratio_fichiers[0]}\\nRatio de la présence d'activité anormale: {ratio_fichiers[1]}\")"
   ]
  },
  {
   "cell_type": "markdown",
   "metadata": {},
   "source": [
    "## DEFINITION DU TARGET ET DES FEATURES"
   ]
  },
  {
   "cell_type": "code",
   "execution_count": 13,
   "metadata": {},
   "outputs": [],
   "source": [
    "# Extraction du feature et du target\n",
    "X = dataset.drop('ANOMALY', axis=1)\n",
    "y = dataset['ANOMALY']"
   ]
  },
  {
   "cell_type": "code",
   "execution_count": 25,
   "metadata": {},
   "outputs": [],
   "source": [
    "# Modélisation\n",
    "def modeles_resultats(X_train, y_train, X_test, y_test, name_model):\n",
    "    \n",
    "    # 6. Entraînement des modèles\n",
    "    name_model.fit(X_train, y_train)\n",
    "\n",
    "    # 7. Prédiction avec les modèles\n",
    "    y_pred = name_model.predict(X_test)\n",
    "    \n",
    "    try:\n",
    "        \n",
    "        # 8. Évaluation des performances des modèles\n",
    "        dico_indices_performances = {\"Exactitude: \" : accuracy_score(y_test, y_pred), \"Précision: \" : precision_score(y_test, y_pred, zero_division=0), \"Recupération: \": recall_score(y_test, y_pred, zero_division=0), \"Score F1: \": f1_score(y_test, y_pred, zero_division=0), \"Matrice de confusion\": confusion_matrix(y_test, y_pred)}\n",
    "        for _ in dico_indices_performances:\n",
    "            print(f'{_}: \\n {dico_indices_performances[_]}')\n",
    "\n",
    "    except AttributeError:\n",
    "        pass"
   ]
  },
  {
   "cell_type": "code",
   "execution_count": 26,
   "metadata": {},
   "outputs": [],
   "source": [
    "# Graphique de performances des modèles\n",
    "def plot_performances(X, y, name_model):\n",
    "        y_pred = name_model.predict(X)\n",
    "        plt.figure(figsize=(8, 6))\n",
    "        plt.scatter(y, y_pred, color='green')\n",
    "        plt.plot(np.arange(0, 1500, 10), np.arange(0, 1500, 10), 'r-')\n",
    "        plt.xlabel('Valeurs réelles')\n",
    "        plt.ylabel('Valeurs prédites')\n",
    "        plt.grid()"
   ]
  },
  {
   "cell_type": "markdown",
   "metadata": {},
   "source": [
    "## MODÉLISATION: Entrainement et prédiction"
   ]
  },
  {
   "cell_type": "code",
   "execution_count": null,
   "metadata": {},
   "outputs": [],
   "source": [
    "# Division des données en ensembles d'entraînement et de test\n",
    "X_train, X_test, y_train, y_test = train_test_split(X, y, test_size=0.3, random_state=32)"
   ]
  },
  {
   "cell_type": "markdown",
   "metadata": {},
   "source": [
    "## EVALUATION"
   ]
  },
  {
   "cell_type": "code",
   "execution_count": 27,
   "metadata": {},
   "outputs": [
    {
     "name": "stdout",
     "output_type": "stream",
     "text": [
      "Exactitude: : \n",
      " 0.989247311827957\n",
      "Précision: : \n",
      " 0.0\n",
      "Recupération: : \n",
      " 0.0\n",
      "Score F1: : \n",
      " 0.0\n",
      "Matrice de confusion: \n",
      " [[92  0]\n",
      " [ 1  0]]\n"
     ]
    }
   ],
   "source": [
    "# Modèle avec l'algorithme KNN\n",
    "model_Knn = KNeighborsClassifier(n_neighbors=10)\n",
    "modeles_resultats(X_train, y_train, X_test, y_test, model_Knn)\n",
    "# plot_performances(X_train, y_train, model_Knn)\n",
    "# plt.title(\"Performances du modèle à l'entrainement\")\n"
   ]
  },
  {
   "cell_type": "code",
   "execution_count": 28,
   "metadata": {},
   "outputs": [
    {
     "data": {
      "text/plain": [
       "Text(0.5, 1.0, 'Performances du modèle au test')"
      ]
     },
     "execution_count": 28,
     "metadata": {},
     "output_type": "execute_result"
    },
    {
     "data": {
      "image/png": "[encoded data removed]",
      "text/plain": [
       "<Figure size 800x600 with 1 Axes>"
      ]
     },
     "metadata": {},
     "output_type": "display_data"
    }
   ],
   "source": [
    "plot_performances(X_test, y_test, model_Knn)\n",
    "plt.title(\"Performances du modèle au test\")"
   ]
  },
  {
   "cell_type": "code",
   "execution_count": 29,
   "metadata": {},
   "outputs": [
    {
     "name": "stdout",
     "output_type": "stream",
     "text": [
      "Exactitude: : \n",
      " 0.967741935483871\n",
      "Précision: : \n",
      " 0.25\n",
      "Recupération: : \n",
      " 1.0\n",
      "Score F1: : \n",
      " 0.4\n",
      "Matrice de confusion: \n",
      " [[89  3]\n",
      " [ 0  1]]\n"
     ]
    }
   ],
   "source": [
    "# Modèle avec l'algorithme Decision Tree\n",
    "model_DecisionTree = DecisionTreeClassifier()\n",
    "modeles_resultats(X_train, y_train, X_test, y_test, model_DecisionTree)\n",
    "# plot_performances(X_train, y_train, model_DecisionTree)\n",
    "# plt.title(\"Performances du modèle à l'entrainement\")"
   ]
  },
  {
   "cell_type": "code",
   "execution_count": 30,
   "metadata": {},
   "outputs": [
    {
     "name": "stdout",
     "output_type": "stream",
     "text": [
      "Exactitude: : \n",
      " 0.989247311827957\n",
      "Précision: : \n",
      " 0.5\n",
      "Recupération: : \n",
      " 1.0\n",
      "Score F1: : \n",
      " 0.6666666666666666\n",
      "Matrice de confusion: \n",
      " [[91  1]\n",
      " [ 0  1]]\n"
     ]
    }
   ],
   "source": [
    "# Modèle avec l'algorithme Decision Tree\n",
    "model_NaiveBayes = GaussianNB()\n",
    "modeles_resultats(X_train, y_train, X_test, y_test, model_NaiveBayes)\n",
    "# plot_performances(X_train, y_train, model_NaiveBayes)\n",
    "# plt.title(\"Performances du modèle à l'entrainement\")"
   ]
  }
 ],
 "metadata": {
  "kernelspec": {
   "display_name": "Python 3",
   "language": "python",
   "name": "python3"
  },
  "language_info": {
   "codemirror_mode": {
    "name": "ipython",
    "version": 3
   },
   "file_extension": ".py",
   "mimetype": "text/x-python",
   "name": "python",
   "nbconvert_exporter": "python",
   "pygments_lexer": "ipython3",
   "version": "3.11.9"
  }
 },
 "nbformat": 4,
 "nbformat_minor": 2
}
